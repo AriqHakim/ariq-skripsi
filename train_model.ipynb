{
 "cells": [
  {
   "cell_type": "code",
   "execution_count": 1,
   "metadata": {},
   "outputs": [
    {
     "name": "stderr",
     "output_type": "stream",
     "text": [
      "2024-05-05 17:59:05.170939: I tensorflow/core/util/port.cc:113] oneDNN custom operations are on. You may see slightly different numerical results due to floating-point round-off errors from different computation orders. To turn them off, set the environment variable `TF_ENABLE_ONEDNN_OPTS=0`.\n",
      "2024-05-05 17:59:05.725782: E external/local_xla/xla/stream_executor/cuda/cuda_dnn.cc:9261] Unable to register cuDNN factory: Attempting to register factory for plugin cuDNN when one has already been registered\n",
      "2024-05-05 17:59:05.725818: E external/local_xla/xla/stream_executor/cuda/cuda_fft.cc:607] Unable to register cuFFT factory: Attempting to register factory for plugin cuFFT when one has already been registered\n",
      "2024-05-05 17:59:05.823457: E external/local_xla/xla/stream_executor/cuda/cuda_blas.cc:1515] Unable to register cuBLAS factory: Attempting to register factory for plugin cuBLAS when one has already been registered\n",
      "2024-05-05 17:59:06.027281: I tensorflow/core/platform/cpu_feature_guard.cc:182] This TensorFlow binary is optimized to use available CPU instructions in performance-critical operations.\n",
      "To enable the following instructions: AVX2 AVX_VNNI FMA, in other operations, rebuild TensorFlow with the appropriate compiler flags.\n",
      "2024-05-05 17:59:07.098932: W tensorflow/compiler/tf2tensorrt/utils/py_utils.cc:38] TF-TRT Warning: Could not find TensorRT\n"
     ]
    }
   ],
   "source": [
    "import tensorflow\n",
    "from tensorflow.keras.preprocessing.image import ImageDataGenerator\n",
    "from tensorflow.keras.applications.resnet50 import  preprocess_input"
   ]
  },
  {
   "cell_type": "code",
   "execution_count": 14,
   "metadata": {},
   "outputs": [],
   "source": [
    "src_path_train = \"./Data/train/\"\n",
    "src_path_valid = \"./Data/valid/\"\n",
    "src_path_test = \"./Data/test/\"\n",
    "\n",
    "scale=1\n",
    "rotation=20\n",
    "zoom=0.25\n",
    "width_shift=0.25\n",
    "height_shift=0.25\n",
    "shear=0.25\n",
    "\n",
    "train_datagen = ImageDataGenerator(\n",
    "        preprocessing_function=preprocess_input,\n",
    "        dtype='float32',\n",
    "        rescale=scale,\n",
    "        rotation_range=rotation,\n",
    "        # zoom_range=zoom,\n",
    "        width_shift_range=width_shift,\n",
    "        height_shift_range=width_shift,\n",
    "        shear_range=shear,\n",
    "        horizontal_flip=True)\n",
    "\n",
    "valid_datagen = ImageDataGenerator(\n",
    "        preprocessing_function=preprocess_input,    \n",
    "        dtype='float32',\n",
    "        rescale=scale,) \n",
    "\n",
    "test_datagen = ImageDataGenerator(\n",
    "        preprocessing_function=preprocess_input,\n",
    "        dtype='float32',\n",
    "        rescale=scale,)"
   ]
  },
  {
   "cell_type": "code",
   "execution_count": 15,
   "metadata": {},
   "outputs": [
    {
     "name": "stdout",
     "output_type": "stream",
     "text": [
      "Found 613 images belonging to 4 classes.\n",
      "Found 72 images belonging to 4 classes.\n",
      "Found 315 images belonging to 4 classes.\n"
     ]
    }
   ],
   "source": [
    "BATCH_SIZE = 32\n",
    "train_generator = train_datagen.flow_from_directory(\n",
    "    directory=src_path_train,\n",
    "    target_size=(224, 224),\n",
    "    color_mode=\"rgb\",\n",
    "    batch_size=BATCH_SIZE,\n",
    "    class_mode=\"categorical\",\n",
    "    subset='training',\n",
    "    shuffle=True,\n",
    "    seed=42\n",
    ")\n",
    "\n",
    "valid_generator = valid_datagen.flow_from_directory(\n",
    "    directory=src_path_valid,\n",
    "    target_size=(224, 224),\n",
    "    color_mode=\"rgb\",\n",
    "    batch_size=BATCH_SIZE,\n",
    "    class_mode=\"categorical\",\n",
    "    shuffle=True,\n",
    "    seed=42\n",
    ")\n",
    "\n",
    "test_generator = test_datagen.flow_from_directory(\n",
    "    directory=src_path_test,\n",
    "    target_size=(224, 224),\n",
    "    color_mode=\"rgb\",\n",
    "    batch_size=1,\n",
    "    class_mode='categorical',\n",
    "    shuffle=False,\n",
    "    seed=42\n",
    ")"
   ]
  },
  {
   "cell_type": "code",
   "execution_count": 16,
   "metadata": {},
   "outputs": [],
   "source": [
    "import tensorflow as tf\n",
    "from tensorflow.keras.applications import ResNet50\n",
    "from tensorflow.keras.models import Sequential\n",
    "from tensorflow.keras.layers import Dense, Flatten, BatchNormalization, Dropout"
   ]
  },
  {
   "cell_type": "code",
   "execution_count": 17,
   "metadata": {},
   "outputs": [],
   "source": [
    "NUM_CLASSES = 4\n",
    "\n",
    "CHANNELS = 3\n",
    "\n",
    "IMAGE_RESIZE = 224\n",
    "RESNET50_POOLING_AVERAGE = 'avg'\n",
    "HIDDEN_LAYER_ACTIVATION = 'relu'\n",
    "DENSE_LAYER_ACTIVATION = 'softmax'\n",
    "OBJECTIVE_FUNCTION = 'categorical_crossentropy'\n",
    "\n",
    "LOSS_METRICS = ['accuracy']\n",
    "\n",
    "NUM_EPOCHS = 50\n",
    "EARLY_STOP_PATIENCE = 1\n",
    "\n",
    "BATCH_SIZE_TESTING = 1\n",
    "\n",
    "STEPS_PER_EPOCH_TRAINING = 20\n",
    "STEPS_PER_EPOCH_VALIDATION = 1"
   ]
  },
  {
   "cell_type": "code",
   "execution_count": 18,
   "metadata": {},
   "outputs": [],
   "source": [
    "model = Sequential()\n",
    "\n",
    "model.add(ResNet50(include_top = False, pooling = RESNET50_POOLING_AVERAGE, weights = 'imagenet'))\n",
    "model.add(Flatten())\n",
    "model.add(BatchNormalization())\n",
    "\n",
    "\n",
    "# 2nd layer as Dense for 2-class classification, i.e., dog or cat using SoftMax activation\n",
    "# model.add(Dense(512, activation = HIDDEN_LAYER_ACTIVATION))\n",
    "# model.add(Dense(256, activation = HIDDEN_LAYER_ACTIVATION))\n",
    "# model.add(Dense(256, activation = HIDDEN_LAYER_ACTIVATION))\n",
    "# model.add(Dropout(0.5))\n",
    "model.add(Dense(NUM_CLASSES, activation = DENSE_LAYER_ACTIVATION))\n",
    "# Say not to train first layer (ResNet) model as it is already trained\n",
    "model.layers[0].trainable = False"
   ]
  },
  {
   "cell_type": "code",
   "execution_count": 19,
   "metadata": {},
   "outputs": [
    {
     "name": "stdout",
     "output_type": "stream",
     "text": [
      "Model: \"sequential_1\"\n",
      "_________________________________________________________________\n",
      " Layer (type)                Output Shape              Param #   \n",
      "=================================================================\n",
      " resnet50 (Functional)       (None, 2048)              23587712  \n",
      "                                                                 \n",
      " flatten_1 (Flatten)         (None, 2048)              0         \n",
      "                                                                 \n",
      " batch_normalization_1 (Bat  (None, 2048)              8192      \n",
      " chNormalization)                                                \n",
      "                                                                 \n",
      " dense_1 (Dense)             (None, 4)                 8196      \n",
      "                                                                 \n",
      "=================================================================\n",
      "Total params: 23604100 (90.04 MB)\n",
      "Trainable params: 12292 (48.02 KB)\n",
      "Non-trainable params: 23591808 (90.00 MB)\n",
      "_________________________________________________________________\n"
     ]
    }
   ],
   "source": [
    "model.summary()\n"
   ]
  },
  {
   "cell_type": "code",
   "execution_count": 20,
   "metadata": {},
   "outputs": [],
   "source": [
    "from tensorflow.keras import optimizers\n",
    "\n",
    "sgd = optimizers.SGD(learning_rate = 0.01, momentum = 0.9, nesterov = True)\n",
    "model.compile(optimizer = sgd, loss = OBJECTIVE_FUNCTION, metrics = LOSS_METRICS)"
   ]
  },
  {
   "cell_type": "code",
   "execution_count": 21,
   "metadata": {},
   "outputs": [],
   "source": [
    "from tensorflow.python.keras.callbacks import EarlyStopping, ModelCheckpoint\n",
    "\n",
    "# cb_early_stopper = EarlyStopping(monitor = 'val_loss', patience = EARLY_STOP_PATIENCE)\n",
    "cb_checkpointer = ModelCheckpoint(filepath = './models/best.hdf5', monitor = 'val_loss', save_best_only = True, mode = 'auto')"
   ]
  },
  {
   "cell_type": "code",
   "execution_count": 22,
   "metadata": {},
   "outputs": [
    {
     "name": "stdout",
     "output_type": "stream",
     "text": [
      "Epoch 1/50\n",
      "20/20 [==============================] - ETA: 0s - loss: 1.2229 - accuracy: 0.5612"
     ]
    },
    {
     "name": "stderr",
     "output_type": "stream",
     "text": [
      "/home/ariqhakim/miniconda3/envs/tf-gpu/lib/python3.10/site-packages/keras/src/engine/training.py:3103: UserWarning: You are saving your model as an HDF5 file via `model.save()`. This file format is considered legacy. We recommend using instead the native Keras format, e.g. `model.save('my_model.keras')`.\n",
      "  saving_api.save_model(\n"
     ]
    },
    {
     "name": "stdout",
     "output_type": "stream",
     "text": [
      "20/20 [==============================] - 7s 266ms/step - loss: 1.2229 - accuracy: 0.5612 - val_loss: 1.4204 - val_accuracy: 0.5938\n",
      "Epoch 2/50\n",
      "20/20 [==============================] - 5s 239ms/step - loss: 0.8182 - accuracy: 0.7537 - val_loss: 1.9269 - val_accuracy: 0.5000\n",
      "Epoch 3/50\n",
      "20/20 [==============================] - 5s 249ms/step - loss: 0.5717 - accuracy: 0.8124 - val_loss: 0.9083 - val_accuracy: 0.7812\n",
      "Epoch 4/50\n",
      "20/20 [==============================] - 5s 237ms/step - loss: 0.6557 - accuracy: 0.8254 - val_loss: 0.9602 - val_accuracy: 0.6875\n",
      "Epoch 5/50\n",
      "20/20 [==============================] - 5s 237ms/step - loss: 0.4828 - accuracy: 0.8189 - val_loss: 1.2407 - val_accuracy: 0.7500\n",
      "Epoch 6/50\n",
      "20/20 [==============================] - 5s 251ms/step - loss: 0.5091 - accuracy: 0.8564 - val_loss: 0.8316 - val_accuracy: 0.8125\n",
      "Epoch 7/50\n",
      "20/20 [==============================] - 5s 239ms/step - loss: 0.4302 - accuracy: 0.8499 - val_loss: 1.7770 - val_accuracy: 0.6250\n",
      "Epoch 8/50\n",
      "20/20 [==============================] - 5s 238ms/step - loss: 0.5972 - accuracy: 0.8320 - val_loss: 0.9826 - val_accuracy: 0.8438\n",
      "Epoch 9/50\n",
      "20/20 [==============================] - 5s 249ms/step - loss: 0.4386 - accuracy: 0.8793 - val_loss: 0.7326 - val_accuracy: 0.7500\n",
      "Epoch 10/50\n",
      "20/20 [==============================] - 5s 237ms/step - loss: 0.3927 - accuracy: 0.8874 - val_loss: 1.5032 - val_accuracy: 0.7812\n",
      "Epoch 11/50\n",
      "20/20 [==============================] - 5s 249ms/step - loss: 0.5346 - accuracy: 0.8401 - val_loss: 0.7258 - val_accuracy: 0.8750\n",
      "Epoch 12/50\n",
      "20/20 [==============================] - 5s 236ms/step - loss: 0.3213 - accuracy: 0.8874 - val_loss: 1.3890 - val_accuracy: 0.7188\n",
      "Epoch 13/50\n",
      "20/20 [==============================] - 5s 240ms/step - loss: 0.4418 - accuracy: 0.8809 - val_loss: 1.6985 - val_accuracy: 0.6562\n",
      "Epoch 14/50\n",
      "20/20 [==============================] - 5s 245ms/step - loss: 0.4442 - accuracy: 0.8793 - val_loss: 0.7977 - val_accuracy: 0.7188\n",
      "Epoch 15/50\n",
      "20/20 [==============================] - 5s 239ms/step - loss: 0.3919 - accuracy: 0.8842 - val_loss: 1.9903 - val_accuracy: 0.7812\n",
      "Epoch 16/50\n",
      "20/20 [==============================] - 5s 236ms/step - loss: 0.4406 - accuracy: 0.8711 - val_loss: 1.8783 - val_accuracy: 0.7500\n",
      "Epoch 17/50\n",
      "20/20 [==============================] - 5s 237ms/step - loss: 0.3565 - accuracy: 0.8972 - val_loss: 0.9278 - val_accuracy: 0.8438\n",
      "Epoch 18/50\n",
      "20/20 [==============================] - 5s 239ms/step - loss: 0.3072 - accuracy: 0.9070 - val_loss: 1.7827 - val_accuracy: 0.8438\n",
      "Epoch 19/50\n",
      "20/20 [==============================] - 5s 236ms/step - loss: 0.4312 - accuracy: 0.8793 - val_loss: 0.9810 - val_accuracy: 0.9375\n",
      "Epoch 20/50\n",
      "20/20 [==============================] - 5s 240ms/step - loss: 0.3914 - accuracy: 0.8940 - val_loss: 1.9263 - val_accuracy: 0.7812\n",
      "Epoch 21/50\n",
      "20/20 [==============================] - 5s 239ms/step - loss: 0.4377 - accuracy: 0.8858 - val_loss: 1.2345 - val_accuracy: 0.8125\n",
      "Epoch 22/50\n",
      "20/20 [==============================] - 5s 239ms/step - loss: 0.3464 - accuracy: 0.8972 - val_loss: 0.9853 - val_accuracy: 0.8750\n",
      "Epoch 23/50\n",
      "20/20 [==============================] - 5s 238ms/step - loss: 0.3568 - accuracy: 0.9086 - val_loss: 1.6929 - val_accuracy: 0.7812\n",
      "Epoch 24/50\n",
      "20/20 [==============================] - 5s 238ms/step - loss: 0.3716 - accuracy: 0.8777 - val_loss: 1.9169 - val_accuracy: 0.8438\n",
      "Epoch 25/50\n",
      "20/20 [==============================] - 5s 247ms/step - loss: 0.3235 - accuracy: 0.8989 - val_loss: 0.6521 - val_accuracy: 0.8750\n",
      "Epoch 26/50\n",
      "20/20 [==============================] - 5s 239ms/step - loss: 0.4177 - accuracy: 0.8956 - val_loss: 1.5835 - val_accuracy: 0.8438\n",
      "Epoch 27/50\n",
      "20/20 [==============================] - 5s 250ms/step - loss: 0.3259 - accuracy: 0.9021 - val_loss: 1.2018 - val_accuracy: 0.8125\n",
      "Epoch 28/50\n",
      "20/20 [==============================] - 6s 275ms/step - loss: 0.2755 - accuracy: 0.9233 - val_loss: 0.6433 - val_accuracy: 0.9062\n",
      "Epoch 29/50\n",
      "20/20 [==============================] - 5s 254ms/step - loss: 0.2026 - accuracy: 0.9233 - val_loss: 0.2356 - val_accuracy: 0.9062\n",
      "Epoch 30/50\n",
      "20/20 [==============================] - 5s 239ms/step - loss: 0.3086 - accuracy: 0.9152 - val_loss: 1.0019 - val_accuracy: 0.8750\n",
      "Epoch 31/50\n",
      "20/20 [==============================] - 5s 237ms/step - loss: 0.3708 - accuracy: 0.9103 - val_loss: 0.9940 - val_accuracy: 0.7812\n",
      "Epoch 32/50\n",
      "20/20 [==============================] - 5s 243ms/step - loss: 0.2860 - accuracy: 0.9266 - val_loss: 2.0764 - val_accuracy: 0.8125\n",
      "Epoch 33/50\n",
      "20/20 [==============================] - 5s 251ms/step - loss: 0.2586 - accuracy: 0.9250 - val_loss: 0.0266 - val_accuracy: 1.0000\n",
      "Epoch 34/50\n",
      "20/20 [==============================] - 5s 236ms/step - loss: 0.3689 - accuracy: 0.9135 - val_loss: 1.3500 - val_accuracy: 0.8125\n",
      "Epoch 35/50\n",
      "20/20 [==============================] - 5s 236ms/step - loss: 0.4011 - accuracy: 0.9070 - val_loss: 1.8477 - val_accuracy: 0.7500\n",
      "Epoch 36/50\n",
      "20/20 [==============================] - 5s 237ms/step - loss: 0.2886 - accuracy: 0.9266 - val_loss: 2.0411 - val_accuracy: 0.8125\n",
      "Epoch 37/50\n",
      "20/20 [==============================] - 5s 236ms/step - loss: 0.3118 - accuracy: 0.9103 - val_loss: 2.6378 - val_accuracy: 0.7812\n",
      "Epoch 38/50\n",
      "20/20 [==============================] - 5s 237ms/step - loss: 0.3584 - accuracy: 0.9119 - val_loss: 2.0802 - val_accuracy: 0.7812\n",
      "Epoch 39/50\n",
      "20/20 [==============================] - 5s 235ms/step - loss: 0.2372 - accuracy: 0.9331 - val_loss: 1.1588 - val_accuracy: 0.8438\n",
      "Epoch 40/50\n",
      "20/20 [==============================] - 5s 235ms/step - loss: 0.3387 - accuracy: 0.9054 - val_loss: 1.6439 - val_accuracy: 0.8438\n",
      "Epoch 41/50\n",
      "20/20 [==============================] - 5s 245ms/step - loss: 0.3395 - accuracy: 0.9201 - val_loss: 2.4428 - val_accuracy: 0.8125\n",
      "Epoch 42/50\n",
      "20/20 [==============================] - 5s 233ms/step - loss: 0.4019 - accuracy: 0.9168 - val_loss: 1.5710 - val_accuracy: 0.7188\n",
      "Epoch 43/50\n",
      "20/20 [==============================] - 5s 235ms/step - loss: 0.4125 - accuracy: 0.9070 - val_loss: 1.2548 - val_accuracy: 0.8125\n",
      "Epoch 44/50\n",
      "20/20 [==============================] - 5s 234ms/step - loss: 0.3518 - accuracy: 0.9217 - val_loss: 1.1246 - val_accuracy: 0.7500\n",
      "Epoch 45/50\n",
      "20/20 [==============================] - 5s 237ms/step - loss: 0.2861 - accuracy: 0.9347 - val_loss: 2.1977 - val_accuracy: 0.8438\n",
      "Epoch 46/50\n",
      "20/20 [==============================] - 5s 242ms/step - loss: 0.3429 - accuracy: 0.9184 - val_loss: 2.3828 - val_accuracy: 0.8125\n",
      "Epoch 47/50\n",
      "20/20 [==============================] - 5s 240ms/step - loss: 0.2697 - accuracy: 0.9347 - val_loss: 1.5650 - val_accuracy: 0.9062\n",
      "Epoch 48/50\n",
      "20/20 [==============================] - 5s 235ms/step - loss: 0.2912 - accuracy: 0.9250 - val_loss: 2.1829 - val_accuracy: 0.8125\n",
      "Epoch 49/50\n",
      "20/20 [==============================] - 5s 236ms/step - loss: 0.2299 - accuracy: 0.9462 - val_loss: 2.2575 - val_accuracy: 0.8125\n",
      "Epoch 50/50\n",
      "20/20 [==============================] - 5s 236ms/step - loss: 0.2333 - accuracy: 0.9478 - val_loss: 1.2244 - val_accuracy: 0.7812\n"
     ]
    }
   ],
   "source": [
    "fit_history = model.fit(\n",
    "        train_generator,\n",
    "        steps_per_epoch=STEPS_PER_EPOCH_TRAINING,\n",
    "        epochs = NUM_EPOCHS,\n",
    "        validation_data=valid_generator,\n",
    "        validation_steps=STEPS_PER_EPOCH_VALIDATION,\n",
    "        callbacks=[cb_checkpointer]\n",
    ")"
   ]
  },
  {
   "cell_type": "code",
   "execution_count": 23,
   "metadata": {},
   "outputs": [
    {
     "data": {
      "image/png": "[encoded data removed]",
      "text/plain": [
       "<Figure size 640x480 with 1 Axes>"
      ]
     },
     "metadata": {},
     "output_type": "display_data"
    }
   ],
   "source": [
    "import matplotlib.pyplot as plt\n",
    "plt.plot(fit_history.history['accuracy'], label = 'train',)\n",
    "plt.plot(fit_history.history['val_accuracy'], label = 'val')\n",
    "\n",
    "plt.legend(loc = 'right')\n",
    "plt.xlabel('epochs')\n",
    "plt.ylabel('accuracy')\n",
    "plt.show()"
   ]
  },
  {
   "cell_type": "code",
   "execution_count": 24,
   "metadata": {},
   "outputs": [
    {
     "name": "stdout",
     "output_type": "stream",
     "text": [
      "315/315 [==============================] - 5s 16ms/step - loss: 1.1915 - accuracy: 0.7778\n"
     ]
    },
    {
     "data": {
      "text/plain": [
       "[1.1914657354354858, 0.7777777910232544]"
      ]
     },
     "execution_count": 24,
     "metadata": {},
     "output_type": "execute_result"
    }
   ],
   "source": [
    "model.load_weights(filepath='./models/best.hdf5')\n",
    "model.evaluate(test_generator)"
   ]
  }
 ],
 "metadata": {
  "kernelspec": {
   "display_name": "tf-gpu",
   "language": "python",
   "name": "python3"
  },
  "language_info": {
   "codemirror_mode": {
    "name": "ipython",
    "version": 3
   },
   "file_extension": ".py",
   "mimetype": "text/x-python",
   "name": "python",
   "nbconvert_exporter": "python",
   "pygments_lexer": "ipython3",
   "version": "3.10.12"
  }
 },
 "nbformat": 4,
 "nbformat_minor": 2
}

{
 "cells": [
  {
   "cell_type": "code",
   "execution_count": 61,
   "metadata": {},
   "outputs": [],
   "source": [
    "import tensorflow\n",
    "from tensorflow.keras.preprocessing.image import ImageDataGenerator\n",
    "from tensorflow.keras.applications.resnet50 import  preprocess_input"
   ]
  },
  {
   "cell_type": "code",
   "execution_count": 89,
   "metadata": {},
   "outputs": [],
   "source": [
    "src_path_train = \"./Data/train/\"\n",
    "src_path_valid = \"./Data/valid/\"\n",
    "src_path_test = \"./Data/test/\"\n",
    "\n",
    "scale=1 / 255.0\n",
    "rotation=20\n",
    "zoom=0.05\n",
    "width_shift=0.05\n",
    "height_shift=0.05\n",
    "shear=0.05\n",
    "\n",
    "train_datagen = ImageDataGenerator(\n",
    "        preprocessing_function=preprocess_input,\n",
    "        dtype='float32',\n",
    "        rescale=scale,\n",
    "        rotation_range=rotation,\n",
    "        # zoom_range=zoom,\n",
    "        width_shift_range=width_shift,\n",
    "        height_shift_range=width_shift,\n",
    "        shear_range=shear,\n",
    "        horizontal_flip=True)\n",
    "\n",
    "valid_datagen = ImageDataGenerator(\n",
    "        preprocessing_function=preprocess_input,    \n",
    "        dtype='float32',\n",
    "        rescale=scale,) \n",
    "\n",
    "test_datagen = ImageDataGenerator(\n",
    "        preprocessing_function=preprocess_input,\n",
    "        dtype='float32',\n",
    "        rescale=scale,)"
   ]
  },
  {
   "cell_type": "code",
   "execution_count": 90,
   "metadata": {},
   "outputs": [
    {
     "name": "stdout",
     "output_type": "stream",
     "text": [
      "Found 613 images belonging to 4 classes.\n",
      "Found 72 images belonging to 4 classes.\n",
      "Found 315 images belonging to 4 classes.\n"
     ]
    }
   ],
   "source": [
    "BATCH_SIZE = 32\n",
    "train_generator = train_datagen.flow_from_directory(\n",
    "    directory=src_path_train,\n",
    "    target_size=(224, 224),\n",
    "    color_mode=\"rgb\",\n",
    "    batch_size=BATCH_SIZE,\n",
    "    class_mode=\"categorical\",\n",
    "    subset='training',\n",
    "    shuffle=True,\n",
    "    seed=42\n",
    ")\n",
    "\n",
    "valid_generator = valid_datagen.flow_from_directory(\n",
    "    directory=src_path_valid,\n",
    "    target_size=(224, 224),\n",
    "    color_mode=\"rgb\",\n",
    "    batch_size=BATCH_SIZE,\n",
    "    class_mode=\"categorical\",\n",
    "    shuffle=True,\n",
    "    seed=42\n",
    ")\n",
    "\n",
    "test_generator = test_datagen.flow_from_directory(\n",
    "    directory=src_path_test,\n",
    "    target_size=(224, 224),\n",
    "    color_mode=\"rgb\",\n",
    "    batch_size=1,\n",
    "    class_mode='categorical',\n",
    "    shuffle=False,\n",
    "    seed=42\n",
    ")"
   ]
  },
  {
   "cell_type": "code",
   "execution_count": 81,
   "metadata": {},
   "outputs": [],
   "source": [
    "import tensorflow as tf\n",
    "from tensorflow.keras.applications import ResNet50\n",
    "from tensorflow.keras.models import Sequential\n",
    "from tensorflow.keras.layers import Dense, Flatten, BatchNormalization, Dropout"
   ]
  },
  {
   "cell_type": "code",
   "execution_count": 91,
   "metadata": {},
   "outputs": [],
   "source": [
    "NUM_CLASSES = 4\n",
    "\n",
    "CHANNELS = 3\n",
    "\n",
    "IMAGE_RESIZE = 224\n",
    "RESNET50_POOLING_AVERAGE = 'avg'\n",
    "HIDDEN_LAYER_ACTIVATION = 'relu'\n",
    "DENSE_LAYER_ACTIVATION = 'softmax'\n",
    "OBJECTIVE_FUNCTION = 'categorical_crossentropy'\n",
    "\n",
    "LOSS_METRICS = ['accuracy']\n",
    "\n",
    "NUM_EPOCHS = 50\n",
    "EARLY_STOP_PATIENCE = 1\n",
    "\n",
    "BATCH_SIZE_TESTING = 1\n",
    "\n",
    "STEPS_PER_EPOCH_TRAINING = 20\n",
    "STEPS_PER_EPOCH_VALIDATION = 1"
   ]
  },
  {
   "cell_type": "code",
   "execution_count": 92,
   "metadata": {},
   "outputs": [],
   "source": [
    "model = Sequential()\n",
    "\n",
    "model.add(ResNet50(include_top = False, pooling = RESNET50_POOLING_AVERAGE, weights = 'imagenet'))\n",
    "model.add(Flatten())\n",
    "model.add(BatchNormalization())\n",
    "\n",
    "\n",
    "# 2nd layer as Dense for 2-class classification, i.e., dog or cat using SoftMax activation\n",
    "# model.add(Dense(512, activation = HIDDEN_LAYER_ACTIVATION))\n",
    "# model.add(Dense(256, activation = HIDDEN_LAYER_ACTIVATION))\n",
    "# model.add(Dense(256, activation = HIDDEN_LAYER_ACTIVATION))\n",
    "# model.add(Dropout(0.5))\n",
    "model.add(Dense(NUM_CLASSES, activation = DENSE_LAYER_ACTIVATION))\n",
    "# Say not to train first layer (ResNet) model as it is already trained\n",
    "model.layers[0].trainable = False"
   ]
  },
  {
   "cell_type": "code",
   "execution_count": 93,
   "metadata": {},
   "outputs": [
    {
     "name": "stdout",
     "output_type": "stream",
     "text": [
      "Model: \"sequential_11\"\n",
      "_________________________________________________________________\n",
      " Layer (type)                Output Shape              Param #   \n",
      "=================================================================\n",
      " resnet50 (Functional)       (None, 2048)              23587712  \n",
      "                                                                 \n",
      " flatten_11 (Flatten)        (None, 2048)              0         \n",
      "                                                                 \n",
      " batch_normalization_11 (Ba  (None, 2048)              8192      \n",
      " tchNormalization)                                               \n",
      "                                                                 \n",
      " dense_13 (Dense)            (None, 4)                 8196      \n",
      "                                                                 \n",
      "=================================================================\n",
      "Total params: 23604100 (90.04 MB)\n",
      "Trainable params: 12292 (48.02 KB)\n",
      "Non-trainable params: 23591808 (90.00 MB)\n",
      "_________________________________________________________________\n"
     ]
    }
   ],
   "source": [
    "model.summary()\n"
   ]
  },
  {
   "cell_type": "code",
   "execution_count": 94,
   "metadata": {},
   "outputs": [],
   "source": [
    "from tensorflow.keras import optimizers\n",
    "\n",
    "sgd = optimizers.SGD(learning_rate = 0.01, momentum = 0.9, nesterov = True)\n",
    "model.compile(optimizer = sgd, loss = OBJECTIVE_FUNCTION, metrics = LOSS_METRICS)"
   ]
  },
  {
   "cell_type": "code",
   "execution_count": 95,
   "metadata": {},
   "outputs": [],
   "source": [
    "from tensorflow.python.keras.callbacks import EarlyStopping, ModelCheckpoint\n",
    "\n",
    "# cb_early_stopper = EarlyStopping(monitor = 'val_loss', patience = EARLY_STOP_PATIENCE)\n",
    "cb_checkpointer = ModelCheckpoint(filepath = './models/best.hdf5', monitor = 'val_loss', save_best_only = True, mode = 'auto')"
   ]
  },
  {
   "cell_type": "code",
   "execution_count": 96,
   "metadata": {},
   "outputs": [
    {
     "name": "stdout",
     "output_type": "stream",
     "text": [
      "Epoch 1/50\n",
      "20/20 [==============================] - 8s 279ms/step - loss: 1.0653 - accuracy: 0.5188 - val_loss: 1.3044 - val_accuracy: 0.4062\n",
      "Epoch 2/50\n",
      "20/20 [==============================] - 5s 252ms/step - loss: 0.8907 - accuracy: 0.5987 - val_loss: 1.2274 - val_accuracy: 0.5625\n",
      "Epoch 3/50\n",
      "20/20 [==============================] - 5s 246ms/step - loss: 0.8353 - accuracy: 0.5987 - val_loss: 1.4834 - val_accuracy: 0.4688\n",
      "Epoch 4/50\n",
      "20/20 [==============================] - 5s 246ms/step - loss: 0.8040 - accuracy: 0.6607 - val_loss: 2.3856 - val_accuracy: 0.2500\n",
      "Epoch 5/50\n",
      "20/20 [==============================] - 5s 247ms/step - loss: 0.7599 - accuracy: 0.6558 - val_loss: 1.6167 - val_accuracy: 0.3438\n",
      "Epoch 6/50\n",
      "20/20 [==============================] - 5s 256ms/step - loss: 0.7451 - accuracy: 0.6607 - val_loss: 1.2246 - val_accuracy: 0.4375\n",
      "Epoch 7/50\n",
      "20/20 [==============================] - 5s 253ms/step - loss: 0.7540 - accuracy: 0.6542 - val_loss: 1.1585 - val_accuracy: 0.4688\n",
      "Epoch 8/50\n",
      "20/20 [==============================] - 5s 241ms/step - loss: 0.6943 - accuracy: 0.7096 - val_loss: 1.5249 - val_accuracy: 0.2500\n",
      "Epoch 9/50\n",
      "20/20 [==============================] - 5s 239ms/step - loss: 0.7354 - accuracy: 0.6803 - val_loss: 1.2435 - val_accuracy: 0.4062\n",
      "Epoch 10/50\n",
      "20/20 [==============================] - 5s 239ms/step - loss: 0.6611 - accuracy: 0.6852 - val_loss: 1.2929 - val_accuracy: 0.3750\n",
      "Epoch 11/50\n",
      "20/20 [==============================] - 5s 251ms/step - loss: 0.6481 - accuracy: 0.7243 - val_loss: 1.1519 - val_accuracy: 0.4375\n",
      "Epoch 12/50\n",
      "20/20 [==============================] - 5s 252ms/step - loss: 0.6551 - accuracy: 0.7064 - val_loss: 0.9646 - val_accuracy: 0.5625\n",
      "Epoch 13/50\n",
      "20/20 [==============================] - 5s 246ms/step - loss: 0.7143 - accuracy: 0.6884 - val_loss: 0.9756 - val_accuracy: 0.5000\n",
      "Epoch 14/50\n",
      "20/20 [==============================] - 5s 248ms/step - loss: 0.6764 - accuracy: 0.6998 - val_loss: 1.1675 - val_accuracy: 0.3438\n",
      "Epoch 15/50\n",
      "20/20 [==============================] - 5s 242ms/step - loss: 0.6926 - accuracy: 0.7047 - val_loss: 0.9901 - val_accuracy: 0.5312\n",
      "Epoch 16/50\n",
      "20/20 [==============================] - 5s 246ms/step - loss: 0.6535 - accuracy: 0.7259 - val_loss: 1.0643 - val_accuracy: 0.4375\n",
      "Epoch 17/50\n",
      "20/20 [==============================] - 5s 250ms/step - loss: 0.6558 - accuracy: 0.6852 - val_loss: 1.1850 - val_accuracy: 0.3750\n",
      "Epoch 18/50\n",
      "20/20 [==============================] - 5s 244ms/step - loss: 0.6218 - accuracy: 0.7064 - val_loss: 1.0371 - val_accuracy: 0.4688\n",
      "Epoch 19/50\n",
      "20/20 [==============================] - 5s 261ms/step - loss: 0.6357 - accuracy: 0.7227 - val_loss: 0.9389 - val_accuracy: 0.5938\n",
      "Epoch 20/50\n",
      "20/20 [==============================] - 5s 255ms/step - loss: 0.6319 - accuracy: 0.7113 - val_loss: 0.9040 - val_accuracy: 0.5000\n",
      "Epoch 21/50\n",
      "20/20 [==============================] - 5s 249ms/step - loss: 0.6130 - accuracy: 0.7341 - val_loss: 1.0532 - val_accuracy: 0.4062\n",
      "Epoch 22/50\n",
      "20/20 [==============================] - 5s 274ms/step - loss: 0.6315 - accuracy: 0.7276 - val_loss: 0.8995 - val_accuracy: 0.5625\n",
      "Epoch 23/50\n",
      "20/20 [==============================] - 5s 252ms/step - loss: 0.5965 - accuracy: 0.7455 - val_loss: 0.8166 - val_accuracy: 0.6875\n",
      "Epoch 24/50\n",
      "20/20 [==============================] - 5s 241ms/step - loss: 0.6227 - accuracy: 0.7145 - val_loss: 1.0105 - val_accuracy: 0.4062\n",
      "Epoch 25/50\n",
      "20/20 [==============================] - 5s 246ms/step - loss: 0.5972 - accuracy: 0.7618 - val_loss: 0.9662 - val_accuracy: 0.5312\n",
      "Epoch 26/50\n",
      "20/20 [==============================] - 6s 275ms/step - loss: 0.6068 - accuracy: 0.7635 - val_loss: 0.7301 - val_accuracy: 0.5938\n",
      "Epoch 27/50\n",
      "20/20 [==============================] - 5s 264ms/step - loss: 0.5635 - accuracy: 0.7618 - val_loss: 0.6924 - val_accuracy: 0.6875\n",
      "Epoch 28/50\n",
      "20/20 [==============================] - 5s 265ms/step - loss: 0.5839 - accuracy: 0.7504 - val_loss: 0.8875 - val_accuracy: 0.5625\n",
      "Epoch 29/50\n",
      "20/20 [==============================] - 5s 248ms/step - loss: 0.6204 - accuracy: 0.7194 - val_loss: 0.7463 - val_accuracy: 0.6250\n",
      "Epoch 30/50\n",
      "20/20 [==============================] - 5s 252ms/step - loss: 0.6173 - accuracy: 0.7406 - val_loss: 0.7732 - val_accuracy: 0.5625\n",
      "Epoch 31/50\n",
      "20/20 [==============================] - 5s 268ms/step - loss: 0.6635 - accuracy: 0.7080 - val_loss: 0.8700 - val_accuracy: 0.5312\n",
      "Epoch 32/50\n",
      "20/20 [==============================] - 5s 271ms/step - loss: 0.5843 - accuracy: 0.7488 - val_loss: 0.8252 - val_accuracy: 0.5938\n",
      "Epoch 33/50\n",
      "20/20 [==============================] - 5s 255ms/step - loss: 0.5358 - accuracy: 0.7814 - val_loss: 0.8090 - val_accuracy: 0.6250\n",
      "Epoch 34/50\n",
      "20/20 [==============================] - 5s 252ms/step - loss: 0.5828 - accuracy: 0.7586 - val_loss: 0.7091 - val_accuracy: 0.6562\n",
      "Epoch 35/50\n",
      "20/20 [==============================] - 5s 255ms/step - loss: 0.5670 - accuracy: 0.7684 - val_loss: 0.7460 - val_accuracy: 0.6250\n",
      "Epoch 36/50\n",
      "20/20 [==============================] - 5s 240ms/step - loss: 0.5743 - accuracy: 0.7488 - val_loss: 0.9083 - val_accuracy: 0.5000\n",
      "Epoch 37/50\n",
      "20/20 [==============================] - 5s 251ms/step - loss: 0.5928 - accuracy: 0.7374 - val_loss: 0.8053 - val_accuracy: 0.6250\n",
      "Epoch 38/50\n",
      "20/20 [==============================] - 5s 252ms/step - loss: 0.5646 - accuracy: 0.7700 - val_loss: 0.8790 - val_accuracy: 0.6250\n",
      "Epoch 39/50\n",
      "20/20 [==============================] - 5s 260ms/step - loss: 0.5876 - accuracy: 0.7455 - val_loss: 0.6852 - val_accuracy: 0.6250\n",
      "Epoch 40/50\n",
      "20/20 [==============================] - 5s 251ms/step - loss: 0.5532 - accuracy: 0.7749 - val_loss: 0.8031 - val_accuracy: 0.6250\n",
      "Epoch 41/50\n",
      "20/20 [==============================] - 5s 249ms/step - loss: 0.5633 - accuracy: 0.7357 - val_loss: 0.9512 - val_accuracy: 0.5938\n",
      "Epoch 42/50\n",
      "20/20 [==============================] - 5s 250ms/step - loss: 0.5386 - accuracy: 0.7781 - val_loss: 0.7899 - val_accuracy: 0.6250\n",
      "Epoch 43/50\n",
      "20/20 [==============================] - 5s 252ms/step - loss: 0.5549 - accuracy: 0.7765 - val_loss: 0.7962 - val_accuracy: 0.6562\n",
      "Epoch 44/50\n",
      "20/20 [==============================] - 5s 263ms/step - loss: 0.5478 - accuracy: 0.7667 - val_loss: 0.6219 - val_accuracy: 0.8125\n",
      "Epoch 45/50\n",
      "20/20 [==============================] - 6s 275ms/step - loss: 0.5529 - accuracy: 0.7830 - val_loss: 0.6138 - val_accuracy: 0.7188\n",
      "Epoch 46/50\n",
      "20/20 [==============================] - 5s 257ms/step - loss: 0.5546 - accuracy: 0.7749 - val_loss: 0.7343 - val_accuracy: 0.6875\n",
      "Epoch 47/50\n",
      "20/20 [==============================] - 5s 245ms/step - loss: 0.5678 - accuracy: 0.7667 - val_loss: 0.8203 - val_accuracy: 0.6562\n",
      "Epoch 48/50\n",
      "20/20 [==============================] - 5s 240ms/step - loss: 0.5477 - accuracy: 0.7635 - val_loss: 0.9277 - val_accuracy: 0.5625\n",
      "Epoch 49/50\n",
      "20/20 [==============================] - 5s 243ms/step - loss: 0.5447 - accuracy: 0.7830 - val_loss: 0.8069 - val_accuracy: 0.6250\n",
      "Epoch 50/50\n",
      "20/20 [==============================] - 5s 245ms/step - loss: 0.5714 - accuracy: 0.7651 - val_loss: 0.7444 - val_accuracy: 0.7188\n"
     ]
    }
   ],
   "source": [
    "fit_history = model.fit(\n",
    "        train_generator,\n",
    "        steps_per_epoch=STEPS_PER_EPOCH_TRAINING,\n",
    "        epochs = NUM_EPOCHS,\n",
    "        validation_data=valid_generator,\n",
    "        validation_steps=STEPS_PER_EPOCH_VALIDATION,\n",
    "        callbacks=[cb_checkpointer]\n",
    ")"
   ]
  },
  {
   "cell_type": "code",
   "execution_count": 99,
   "metadata": {},
   "outputs": [
    {
     "data": {
      "image/png": "[encoded data removed]",
      "text/plain": [
       "<Figure size 640x480 with 1 Axes>"
      ]
     },
     "metadata": {},
     "output_type": "display_data"
    }
   ],
   "source": [
    "import matplotlib.pyplot as plt\n",
    "plt.plot(fit_history.history['accuracy'], label = 'train',)\n",
    "plt.plot(fit_history.history['val_accuracy'], label = 'val')\n",
    "\n",
    "plt.legend(loc = 'right')\n",
    "plt.xlabel('epochs')\n",
    "plt.ylabel('accuracy')\n",
    "plt.show()"
   ]
  },
  {
   "cell_type": "code",
   "execution_count": 100,
   "metadata": {},
   "outputs": [
    {
     "name": "stdout",
     "output_type": "stream",
     "text": [
      "315/315 [==============================] - 5s 17ms/step - loss: 1.1798 - accuracy: 0.5238\n"
     ]
    },
    {
     "data": {
      "text/plain": [
       "[1.1798343658447266, 0.523809552192688]"
      ]
     },
     "execution_count": 100,
     "metadata": {},
     "output_type": "execute_result"
    }
   ],
   "source": [
    "model.load_weights(filepath='./models/best.hdf5')\n",
    "model.evaluate(test_generator)"
   ]
  }
 ],
 "metadata": {
  "kernelspec": {
   "display_name": "tf-gpu",
   "language": "python",
   "name": "python3"
  },
  "language_info": {
   "codemirror_mode": {
    "name": "ipython",
    "version": 3
   },
   "file_extension": ".py",
   "mimetype": "text/x-python",
   "name": "python",
   "nbconvert_exporter": "python",
   "pygments_lexer": "ipython3",
   "version": "3.10.12"
  }
 },
 "nbformat": 4,
 "nbformat_minor": 2
}
